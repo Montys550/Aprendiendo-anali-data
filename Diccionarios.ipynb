{
 "cells": [
  {
   "cell_type": "code",
   "execution_count": 58,
   "id": "10e05f31-2c38-4ce0-9739-ef4e8acfdd8c",
   "metadata": {
    "tags": []
   },
   "outputs": [
    {
     "name": "stdout",
     "output_type": "stream",
     "text": [
      "Valentina\n",
      "{'SGE': 'Valentina', 'AD': 'Matita', 'PDM': 'Paloma'}\n",
      "{'SGE': 'Valentina', 'PDM': 'Paloma'}\n",
      "{}\n",
      "SGE : Valentina\n",
      "AD : Marta\n",
      "PDM : Paloma\n",
      "dict_items([('SGE', 'Valentina'), ('AD', 'Marta'), ('PDM', 'Paloma')])\n",
      "SGE : Valentina AD : Marta PDM : Paloma 0 SGE\n",
      "1 AD\n",
      "2 PDM\n",
      "['AD', 'PDM', 'SGE']\n",
      "['SGE', 'PDM', 'AD']\n",
      "[('huevos', 1.79), ('leche', 2.19), ('pan', 3.09), ('cafe', 4.59), ('quesos', 4.99)]\n",
      "[('cafe', 4.59), ('huevos', 1.79), ('leche', 2.19), ('pan', 3.09), ('quesos', 4.99)]\n"
     ]
    }
   ],
   "source": [
    "#1\n",
    "Clase={\"SGE\":\"Valentina\",\"AD\":\"Marta\",\"PDM\":\"Paloma\"}\n",
    "print(Clase[\"SGE\"])\n",
    "\n",
    "\"SGE\" in Clase\n",
    "\n",
    "#2\n",
    "Clase[\"AD\"]=\"Matita\"\n",
    "print (Clase)\n",
    "\n",
    "#3\n",
    "del Clase[\"AD\"]\n",
    "print(Clase)\n",
    "\n",
    "#4\n",
    "Clase.clear()\n",
    "print(Clase)\n",
    "\n",
    "del Clase\n",
    "\n",
    "#5\n",
    "Clase={\"SGE\":\"Valentina\",\"AD\":\"Marta\",\"PDM\":\"Paloma\"}\n",
    "\n",
    "for x in Clase:\n",
    "    print(x,\":\",Clase[x])\n",
    "\n",
    "#6\n",
    "Clase={\"SGE\":\"Valentina\",\"AD\":\"Marta\",\"PDM\":\"Paloma\"}\n",
    "    \n",
    "print(Clase.items())\n",
    "\n",
    "#7  \n",
    "Clase={\"SGE\":\"Valentina\",\"AD\":\"Marta\",\"PDM\":\"Paloma\"}\n",
    "for (x,y) in Clase.items():\n",
    "    print(x,\":\",y,end=' ')\n",
    "\n",
    "\n",
    "for(x,y) in enumerate(Clase):\n",
    "    print(x,y)\n",
    "    \n",
    "print(sorted(Clase))\n",
    "print(sorted(Clase,reverse=True))\n",
    "\n",
    "#Ordenar Diccionarios\n",
    "from operator import itemgetter\n",
    "compra = {'leche':2.19, 'pan':3.09, 'cafe':4.59, 'huevos':1.79, 'quesos':4.99}\n",
    "print(sorted(compra.items(), key=itemgetter(1)))\n",
    "print(sorted(compra.items(), key=itemgetter(0)))"
   ]
  },
  {
   "cell_type": "markdown",
   "id": "ceec13f8-1845-432e-a4e8-50dca0d5a020",
   "metadata": {},
   "source": [
    "Escribe un programa que te pida varias palabras y te diga cuál es la más larga (si hay varias, que conteste una cualquiera).\n",
    "\n",
    "La palabra más larga:\n",
    "\n",
    "Dime una palabra: Melchor\n",
    "\n",
    "Dime una palabra: Gaspar\n",
    "\n",
    "Dime una palabra: Baltasar\n",
    "\n",
    "Dime una palabra:\n",
    "\n",
    "Y la palabra más larga es... ¡Baltasar!"
   ]
  },
  {
   "cell_type": "code",
   "execution_count": 50,
   "id": "192c6f82-1558-4f53-abca-7dc2446fe7eb",
   "metadata": {
    "tags": []
   },
   "outputs": [
    {
     "name": "stdin",
     "output_type": "stream",
     "text": [
      "Cuantas palabras desea ingresar 2\n",
      "Ingrese palabra 1 okokoko\n",
      "Ingrese palabra 2 ok\n"
     ]
    },
    {
     "name": "stdout",
     "output_type": "stream",
     "text": [
      "okokoko\n"
     ]
    }
   ],
   "source": [
    "pala=int(input(\"Cuantas palabras desea ingresar\"))\n",
    "lenmax=0\n",
    "\n",
    "for i in range(pala):\n",
    "    x=i+1\n",
    "    uno=input(\"Ingrese palabra %s\"%(x))\n",
    "    if len(uno)> lenmax:\n",
    "        lenmax=len(uno)\n",
    "        palabra=uno\n",
    "print(palabra)\n",
    "    \n",
    "    \n",
    "    "
   ]
  },
  {
   "cell_type": "markdown",
   "id": "b1977576-5655-4b46-8f43-238bd455abb4",
   "metadata": {},
   "source": [
    "Escriba un programa que permita crear varias listas de palabras. Para ello, el programa tiene que pedir la cantidad de listas y luego pedir las palabras que forman cada lista, teniendo en cuenta que la primera lista contendrá solo una palabra, la segunda, dos palabras y así sucesivamente. Finalmente, el programa mostrará una lista que contenga todas las listas.\n",
    "\n",
    "Dígame cuántas listas va a escribir: 3\n",
    "\n",
    "Lista 1\n",
    "\n",
    "Dígame la palabra 1: a\n",
    "\n",
    "Lista 2\n",
    "\n",
    "Dígame la palabra 1: b\n",
    "\n",
    "Dígame la palabra 2: bb\n",
    "\n",
    "Lista 3\n",
    "\n",
    "Dígame la palabra 1: c\n",
    "\n",
    "Dígame la palabra 2: cc\n",
    "\n",
    "Dígame la palabra 3: ccc\n",
    "\n",
    "Resultado: [['a'], ['b', 'bb'], ['c', 'cc', 'ccc']]\n",
    "\n",
    "Dígame cuántas listas va a escribir: -1\n",
    "\n",
    "¡Imposible!"
   ]
  },
  {
   "cell_type": "code",
   "execution_count": 57,
   "id": "259c4791-0d57-445a-ac10-8b80b8317634",
   "metadata": {
    "tags": []
   },
   "outputs": [
    {
     "name": "stdin",
     "output_type": "stream",
     "text": [
      "Cuantas listas desea ingresar 2\n"
     ]
    },
    {
     "name": "stdout",
     "output_type": "stream",
     "text": [
      "\n",
      "Lista 1\n"
     ]
    },
    {
     "name": "stdin",
     "output_type": "stream",
     "text": [
      "Digame la palabra 1 hola\n"
     ]
    },
    {
     "name": "stdout",
     "output_type": "stream",
     "text": [
      "\n",
      "Lista 2\n"
     ]
    },
    {
     "name": "stdin",
     "output_type": "stream",
     "text": [
      "Digame la palabra 1 bola\n",
      "Digame la palabra 2 cola\n"
     ]
    },
    {
     "name": "stdout",
     "output_type": "stream",
     "text": [
      "\n",
      "Resultado:  [['hola'], ['bola', 'cola']]\n"
     ]
    }
   ],
   "source": [
    "pala=int(input(\"Cuantas listas desea ingresar\"))\n",
    "if pala<1:\n",
    "    print(\"imposible@\")\n",
    "else:\n",
    "    ListaResultado=[]\n",
    "    for i in range(pala):\n",
    "        print(\"\\nLista\", i+1)\n",
    "        Lista=[]\n",
    "        \n",
    "        for i in range(i+1):\n",
    "            x=i+1\n",
    "            palabra=input(\"Digame la palabra %s\"%x)\n",
    "            while (palabra.isalpha()==False):\n",
    "                palabra=input(\"Digame la palabra %s\",(i+1))\n",
    "            Lista.append(palabra)\n",
    "            \n",
    "        ListaResultado.append(Lista)\n",
    "    print(\"\\nResultado: \", ListaResultado)\n",
    "        \n",
    "    \n",
    "    "
   ]
  },
  {
   "cell_type": "markdown",
   "id": "e5e555ff-eda4-43bc-a1a4-dd26e25a3dd3",
   "metadata": {},
   "source": [
    "Crear un diccionario con tres elementos (almacenar como clave el nombre de una fruta y como valor su precio). Luego, hacer las siguientes operaciones:\n",
    "\n",
    "Agregar un cuarto elemento.\n",
    "Imprimir la cantidad de elementos del diccionario.\n",
    "Borrar un elemento del diccionario.\n",
    "Imprimir todas las claves.\n",
    "Imprimir todos los valores.\n",
    "Imprimir claves y valores.\n",
    "Borrar el diccionario."
   ]
  },
  {
   "cell_type": "code",
   "execution_count": null,
   "id": "ab205d1f-2d98-49b8-b66e-b122f9528c0f",
   "metadata": {},
   "outputs": [],
   "source": []
  },
  {
   "cell_type": "markdown",
   "id": "a9308a92-2a3b-4615-a20e-ee47c5858844",
   "metadata": {},
   "source": [
    "Crear un diccionario asociando nombres de países y cantidades de habitantes. Mostrar el país que tiene más habitantes.\n",
    "\n",
    "Países={'argentina':40000000,'españa':46000000,'brasil':190000000}"
   ]
  },
  {
   "cell_type": "code",
   "execution_count": 63,
   "id": "6b5fd2cb-1dc3-4b70-a8ea-4719ad86fbc3",
   "metadata": {
    "tags": []
   },
   "outputs": [
    {
     "data": {
      "text/plain": [
       "'Sara'"
      ]
     },
     "execution_count": 63,
     "metadata": {},
     "output_type": "execute_result"
    }
   ],
   "source": [
    "Empleados = {\"emp1\":\"Pepe\",\"emp2\":\"Sara\",\"emp3\":\"Miguel\"} \n",
    "Empleados.get(\"emp2\", 0)"
   ]
  },
  {
   "cell_type": "code",
   "execution_count": null,
   "id": "4d7cd595-8fbf-42ce-83b6-ffb1a4011d95",
   "metadata": {},
   "outputs": [],
   "source": []
  }
 ],
 "metadata": {
  "kernelspec": {
   "display_name": "Python 3 (ipykernel)",
   "language": "python",
   "name": "python3"
  },
  "language_info": {
   "codemirror_mode": {
    "name": "ipython",
    "version": 3
   },
   "file_extension": ".py",
   "mimetype": "text/x-python",
   "name": "python",
   "nbconvert_exporter": "python",
   "pygments_lexer": "ipython3",
   "version": "3.11.4"
  }
 },
 "nbformat": 4,
 "nbformat_minor": 5
}
